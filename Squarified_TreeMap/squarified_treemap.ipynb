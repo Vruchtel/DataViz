{
 "cells": [
  {
   "cell_type": "markdown",
   "metadata": {},
   "source": [
    "### Реализация алгоритма Squarified TreeMap, описанного в статье https://www.win.tue.nl/~vanwijk/stm.pdf\n",
    "\n",
    "В ноутбуке код для\n",
    "\n",
    "- squarification - жадный алгоритм, задача которого заключается в приближении ячеек к более квадратным, чем в оригинальном TreeMap\n",
    "- создание датасета на основе данных из файловой системы\n",
    "- построение полной диаграммы для полученного датасета со вложенными подкатегориями\n",
    "\n",
    "Результатом запуска всего ноутбука будет картинка result.png - требуемая диаграмма.\n",
    "\n",
    "P.S. Во всех ячейках, где указано ```path = \"<path>\"```, нужно заменить ```<path>``` на реальный путь в файловой системе."
   ]
  },
  {
   "cell_type": "code",
   "execution_count": 23,
   "metadata": {},
   "outputs": [],
   "source": [
    "import numpy as np\n",
    "import math\n",
    "import matplotlib.pyplot as plt"
   ]
  },
  {
   "cell_type": "code",
   "execution_count": 24,
   "metadata": {},
   "outputs": [],
   "source": [
    "def worst(children_areas, w):\n",
    "    \"\"\"\n",
    "    Возвращает самое большое соотношение сторон для списка прямоугольников\n",
    "    w - длина строрны, вдоль которой располагаются прямоугольники\n",
    "    \"\"\"    \n",
    "    max_area = children_areas[0]\n",
    "    min_area = children_areas[-1]\n",
    "    total_sum = sum(children_areas)\n",
    "    return max(w ** 2 * max_area / (total_sum ** 2), \n",
    "              (total_sum ** 2)/ (w ** 2 * min_area))\n",
    "\n",
    "\n",
    "rectangles = []\n",
    "\n",
    "def layout_row(row, x1, y1, x2, y2):\n",
    "    \"\"\"\n",
    "    row - список площадей дочерних прямоугольников в этой строке\n",
    "    x1, y1, x2, y2 - координаты прямоугольника, в который вкладываются дочерние прямоугольники\n",
    "    Возвращает координаты нового прямоугольника, с которым нужно теперь работать\n",
    "    \"\"\"\n",
    "    global rectangles\n",
    "    width = x2 - x1\n",
    "    height = y2 - y1\n",
    "    \n",
    "    total_area = sum(row)\n",
    "    \n",
    "    if width < height:\n",
    "        # Укладываем в горизонтальную строку (слева направо снизу)\n",
    "        row_height = total_area / width \n",
    "        \n",
    "        x_prev_max = x1\n",
    "        \n",
    "        for rec in row:\n",
    "            cur_y1 = y1\n",
    "            cur_y2 = y1 + row_height\n",
    "            \n",
    "            cur_x1 = x_prev_max\n",
    "            cur_x2 = cur_x1 + (rec / row_height)\n",
    "            \n",
    "            rectangles.append((cur_x1, cur_y1, cur_x2, cur_y2))\n",
    "            x_prev_max = cur_x2\n",
    "            \n",
    "        return (x1, y1 + row_height, x2, y2)\n",
    "        \n",
    "    else:\n",
    "        # Укладываем в вертикальную строку (снизу вверх слева)\n",
    "        row_width = total_area / height\n",
    "        \n",
    "        y_prev_max = y1\n",
    "        \n",
    "        for rec in row:\n",
    "            cur_x1 = x1\n",
    "            cur_x2 = x1 + row_width\n",
    "            \n",
    "            cur_y1 = y_prev_max\n",
    "            cur_y2 = cur_y1 + (rec / row_width)\n",
    "            \n",
    "            rectangles.append((cur_x1, cur_y1, cur_x2, cur_y2))\n",
    "            y_prev_max = cur_y2\n",
    "            \n",
    "        return (x1 + row_width, y1, x2, y2)\n",
    "    \n",
    "\n",
    "def shortest_side(x1, y1, x2, y2):\n",
    "    width = x2 - x1\n",
    "    height = y2 - y1\n",
    "    return width if width < height else height\n",
    "    \n",
    "    \n",
    "def squarify(children_areas, current_row, smallest_side, big_rectangle_coords):\n",
    "    global rectangles\n",
    "    \n",
    "    if len(current_row) == 0:\n",
    "        \n",
    "        if len(children_areas) == 1:\n",
    "            # Других вариантов нет, просто добавляем\n",
    "            big_rectangle_coords = layout_row(children_areas, *big_rectangle_coords)\n",
    "            return\n",
    "        \n",
    "        else:\n",
    "            squarify(children_areas[1:], [children_areas[0]], smallest_side, big_rectangle_coords)\n",
    "            return \n",
    "    \n",
    "    if len(children_areas) == 0:\n",
    "        \n",
    "        if len(current_row) != 0:\n",
    "            big_rectangle_coords = layout_row(current_row, *big_rectangle_coords)\n",
    "        return \n",
    "    \n",
    "    # Считаем что список площадей children_areas отсортирован по убыванию\n",
    "    c = children_areas[0]\n",
    "    \n",
    "    if worst(current_row, smallest_side) > worst(current_row + [c], smallest_side):\n",
    "        squarify(children_areas[1:], current_row + [c], smallest_side, big_rectangle_coords)\n",
    "    else:\n",
    "        # меняются координаты прямоугольника\n",
    "        big_rectangle_coords = layout_row(current_row, *big_rectangle_coords)\n",
    "        \n",
    "        squarify(children_areas, [], shortest_side(*big_rectangle_coords), big_rectangle_coords)\n",
    "        \n",
    "    return"
   ]
  },
  {
   "cell_type": "code",
   "execution_count": 25,
   "metadata": {
    "scrolled": true
   },
   "outputs": [],
   "source": [
    "rectangles = []\n",
    "squarify([6, 6, 4, 3, 2, 2, 1], [], 4, (0, 0, 6, 4))"
   ]
  },
  {
   "cell_type": "code",
   "execution_count": 26,
   "metadata": {},
   "outputs": [
    {
     "data": {
      "text/plain": [
       "[(0, 0, 3.0, 2.0),\n",
       " (0, 2.0, 3.0, 4.0),\n",
       " (3.0, 0, 4.714285714285714, 2.3333333333333335),\n",
       " (4.714285714285714, 0, 6.0, 2.3333333333333335),\n",
       " (3.0, 2.3333333333333335, 4.2, 4.0),\n",
       " (4.2, 2.3333333333333335, 5.4, 4.0),\n",
       " (5.4, 2.3333333333333335, 6.0, 4.000000000000001)]"
      ]
     },
     "execution_count": 26,
     "metadata": {},
     "output_type": "execute_result"
    }
   ],
   "source": [
    "rectangles"
   ]
  },
  {
   "cell_type": "code",
   "execution_count": null,
   "metadata": {},
   "outputs": [],
   "source": []
  },
  {
   "cell_type": "code",
   "execution_count": 27,
   "metadata": {},
   "outputs": [
    {
     "data": {
      "image/png": "[encoded data removed]",
      "text/plain": [
       "<Figure size 432x288 with 1 Axes>"
      ]
     },
     "metadata": {
      "needs_background": "light"
     },
     "output_type": "display_data"
    }
   ],
   "source": [
    "for rec in rectangles:\n",
    "    \n",
    "    plt.plot([rec[0], rec[2]], [rec[1], rec[1]], color='blue')  # горизонтальная линия внизу\n",
    "    plt.plot([rec[0], rec[2]], [rec[3], rec[3]], color='blue')  # горизонтальная линия сверху\n",
    "    plt.plot([rec[0], rec[0]], [rec[1], rec[3]], color='blue')  # вертикальная линия слева\n",
    "    plt.plot([rec[2], rec[2]], [rec[1], rec[3]], color='blue')  # вертикальная линия справа\n",
    "    \n",
    "#     plt.text((rec[2] - rec[0]) / 2 + rec[0], (rec[3] - rec[1]) / 2 + rec[1],\n",
    "#              'text', color='black')\n",
    "    \n",
    "plt.show()"
   ]
  },
  {
   "cell_type": "code",
   "execution_count": null,
   "metadata": {},
   "outputs": [],
   "source": []
  },
  {
   "cell_type": "markdown",
   "metadata": {},
   "source": [
    "### Создадим датасет - данные из файловой системы"
   ]
  },
  {
   "cell_type": "code",
   "execution_count": 6,
   "metadata": {},
   "outputs": [],
   "source": [
    "import os"
   ]
  },
  {
   "cell_type": "code",
   "execution_count": 7,
   "metadata": {},
   "outputs": [],
   "source": [
    "def recursively_walk(path, files_rec, sum_size):\n",
    "    \n",
    "    if os.path.isfile(path):\n",
    "        \n",
    "        size = os.path.getsize(path)\n",
    "        files_rec.append((size, os.path.split(path)[-1]))\n",
    "        files_rec.append((os.path.split(path)[-1], size))\n",
    "        sum_size += size\n",
    "        return files_rec[0], sum_size\n",
    "    else:\n",
    "        files_and_dirs_inside = os.listdir(path)\n",
    "        \n",
    "        if len(files_and_dirs_inside) == 0:\n",
    "            return None, sum_size\n",
    "        \n",
    "        for f in files_and_dirs_inside:\n",
    "            new_files, sum_size = recursively_walk(os.path.join(path, f), [], sum_size)\n",
    "            if new_files is not None:\n",
    "                files_rec.append(new_files)\n",
    "\n",
    "        return files_rec, sum_size\n",
    "        "
   ]
  },
  {
   "cell_type": "code",
   "execution_count": 8,
   "metadata": {
    "scrolled": true
   },
   "outputs": [],
   "source": [
    "path = \"<path>\"\n",
    "dataset, sum_size = recursively_walk(path, [], 0)"
   ]
  },
  {
   "cell_type": "code",
   "execution_count": 9,
   "metadata": {},
   "outputs": [
    {
     "data": {
      "text/plain": [
       "[[(90792, 'squarified_treemap-checkpoint.ipynb')],\n",
       " (40457, 'result.png'),\n",
       " (3364352, 'Sample - Superstore.xls'),\n",
       " (92851, 'squarified_treemap.ipynb')]"
      ]
     },
     "execution_count": 9,
     "metadata": {},
     "output_type": "execute_result"
    }
   ],
   "source": [
    "dataset"
   ]
  },
  {
   "cell_type": "code",
   "execution_count": 10,
   "metadata": {},
   "outputs": [
    {
     "data": {
      "text/plain": [
       "3588452"
      ]
     },
     "execution_count": 10,
     "metadata": {},
     "output_type": "execute_result"
    }
   ],
   "source": [
    "sum_size"
   ]
  },
  {
   "cell_type": "code",
   "execution_count": null,
   "metadata": {},
   "outputs": [],
   "source": []
  },
  {
   "cell_type": "markdown",
   "metadata": {},
   "source": [
    "### Tree Map"
   ]
  },
  {
   "cell_type": "code",
   "execution_count": 11,
   "metadata": {},
   "outputs": [],
   "source": [
    "def get_list_total_size(l, total_size):\n",
    "    \n",
    "    if type(l) is not list:\n",
    "        return l[0]\n",
    "    \n",
    "    total_size = 0\n",
    "    \n",
    "    for elem in l:\n",
    "        if type(elem) is not list:\n",
    "            total_size += elem[0]\n",
    "        else:\n",
    "            total_size = total_size + get_list_total_size(elem, total_size)\n",
    "            \n",
    "    return total_size\n",
    "    "
   ]
  },
  {
   "cell_type": "code",
   "execution_count": 12,
   "metadata": {},
   "outputs": [
    {
     "data": {
      "text/plain": [
       "1"
      ]
     },
     "execution_count": 12,
     "metadata": {},
     "output_type": "execute_result"
    }
   ],
   "source": [
    "get_list_total_size([[(1, 'a')]], 0)"
   ]
  },
  {
   "cell_type": "code",
   "execution_count": 13,
   "metadata": {},
   "outputs": [
    {
     "data": {
      "text/plain": [
       "6"
      ]
     },
     "execution_count": 13,
     "metadata": {},
     "output_type": "execute_result"
    }
   ],
   "source": [
    "get_list_total_size([[(1, 'a'), (2, 'b')], (3, 'c')], 0)"
   ]
  },
  {
   "cell_type": "code",
   "execution_count": 14,
   "metadata": {},
   "outputs": [
    {
     "data": {
      "text/plain": [
       "3588452"
      ]
     },
     "execution_count": 14,
     "metadata": {},
     "output_type": "execute_result"
    }
   ],
   "source": [
    "get_list_total_size(dataset, 0)"
   ]
  },
  {
   "cell_type": "code",
   "execution_count": 15,
   "metadata": {},
   "outputs": [
    {
     "data": {
      "text/plain": [
       "1"
      ]
     },
     "execution_count": 15,
     "metadata": {},
     "output_type": "execute_result"
    }
   ],
   "source": [
    "get_list_total_size((1, 'a'), 0)"
   ]
  },
  {
   "cell_type": "code",
   "execution_count": null,
   "metadata": {},
   "outputs": [],
   "source": []
  },
  {
   "cell_type": "code",
   "execution_count": 16,
   "metadata": {},
   "outputs": [
    {
     "data": {
      "text/plain": [
       "3588452"
      ]
     },
     "execution_count": 16,
     "metadata": {},
     "output_type": "execute_result"
    }
   ],
   "source": [
    "get_list_total_size(dataset, 0)"
   ]
  },
  {
   "cell_type": "code",
   "execution_count": 17,
   "metadata": {},
   "outputs": [
    {
     "data": {
      "text/plain": [
       "90792"
      ]
     },
     "execution_count": 17,
     "metadata": {},
     "output_type": "execute_result"
    }
   ],
   "source": [
    "get_list_total_size(dataset[0], 0)"
   ]
  },
  {
   "cell_type": "code",
   "execution_count": 18,
   "metadata": {},
   "outputs": [
    {
     "data": {
      "text/plain": [
       "[(3364352, 'Sample - Superstore.xls'),\n",
       " (92851, 'squarified_treemap.ipynb'),\n",
       " [(90792, 'squarified_treemap-checkpoint.ipynb')],\n",
       " (40457, 'result.png')]"
      ]
     },
     "execution_count": 18,
     "metadata": {},
     "output_type": "execute_result"
    }
   ],
   "source": [
    "sorted(dataset, key=lambda x: -get_list_total_size(x, 0))"
   ]
  },
  {
   "cell_type": "code",
   "execution_count": null,
   "metadata": {},
   "outputs": [],
   "source": []
  },
  {
   "cell_type": "code",
   "execution_count": 19,
   "metadata": {},
   "outputs": [],
   "source": [
    "def worst(children_areas, w):\n",
    "    \"\"\"\n",
    "    Возвращает самое большое соотношение сторон для списка прямоугольников\n",
    "    w - длина строрны, вдоль которой располагаются прямоугольники\n",
    "    \"\"\"    \n",
    "    max_area = get_list_total_size(children_areas[0], 0)\n",
    "    min_area = get_list_total_size(children_areas[-1], 0)\n",
    "\n",
    "    total_sum = get_list_total_size(children_areas, 0)\n",
    "    return max(w ** 2 * max_area / (total_sum ** 2), \n",
    "              (total_sum ** 2)/ (w ** 2 * min_area))\n",
    "\n",
    "\n",
    "def layout_row(row, x1, y1, x2, y2):\n",
    "    \"\"\"\n",
    "    row - список площадей дочерних прямоугольников в этой строке\n",
    "    x1, y1, x2, y2 - координаты прямоугольника, в который вкладываются дочерние прямоугольники\n",
    "    Возвращает координаты нового прямоугольника, с которым нужно теперь работать\n",
    "    \"\"\"\n",
    "    global rectangles\n",
    "    width = x2 - x1\n",
    "    height = y2 - y1\n",
    "    \n",
    "    total_area = get_list_total_size(row, 0)\n",
    "    \n",
    "    if width < height:\n",
    "        # Укладываем в горизонтальную строку (слева направо снизу)\n",
    "        row_height = total_area / width \n",
    "        \n",
    "        x_prev_max = x1\n",
    "        \n",
    "        for rec in row:\n",
    "            cur_y1 = y1\n",
    "            cur_y2 = y1 + row_height\n",
    "            \n",
    "            cur_x1 = x_prev_max\n",
    "            cur_x2 = cur_x1 + (get_list_total_size(rec, 0) / row_height)\n",
    "            \n",
    "            coords = (cur_x1, cur_y1, cur_x2, cur_y2)\n",
    "            \n",
    "            if type(rec) is not list:\n",
    "                rectangles.append((coords, rec[1]))\n",
    "            else:\n",
    "                squarify(rec, [], shortest_side(*coords), coords)\n",
    "            x_prev_max = cur_x2\n",
    "            \n",
    "        return (x1, y1 + row_height, x2, y2)\n",
    "        \n",
    "    else:\n",
    "        # Укладываем в вертикальную строку (снизу вверх слева)\n",
    "        row_width = total_area / height\n",
    "        \n",
    "        y_prev_max = y1\n",
    "        \n",
    "        for rec in row:\n",
    "            cur_x1 = x1\n",
    "            cur_x2 = x1 + row_width\n",
    "            \n",
    "            cur_y1 = y_prev_max\n",
    "            cur_y2 = cur_y1 + (get_list_total_size(rec, 0) / row_width)\n",
    "            \n",
    "            coords = (cur_x1, cur_y1, cur_x2, cur_y2)\n",
    "            if type(rec) is not list:\n",
    "                rectangles.append((coords, rec[1]))\n",
    "            else:\n",
    "                squarify(rec, [], shortest_side(*coords), coords)\n",
    "            y_prev_max = cur_y2\n",
    "            \n",
    "        return (x1 + row_width, y1, x2, y2)\n",
    "    \n",
    "\n",
    "def squarify(children_areas, current_row, smallest_side, big_rectangle_coords):\n",
    "    \n",
    "    # отсортированная версия (по верхним уровням)\n",
    "    children_areas = sorted(children_areas, key=lambda x: -get_list_total_size(x, 0))\n",
    "    \n",
    "    global rectangles\n",
    "    \n",
    "    if len(current_row) == 0:\n",
    "        \n",
    "        if len(children_areas) == 1:\n",
    "            # Других вариантов нет, просто добавляем\n",
    "            \n",
    "            big_rectangle_coords = layout_row(children_areas, *big_rectangle_coords)               \n",
    "                \n",
    "            return\n",
    "        \n",
    "        else:\n",
    "            squarify(children_areas[1:], [children_areas[0]], smallest_side, big_rectangle_coords)\n",
    "            return \n",
    "    \n",
    "    if len(children_areas) == 0:\n",
    "        \n",
    "        if len(current_row) != 0:\n",
    "            big_rectangle_coords = layout_row(current_row, *big_rectangle_coords)\n",
    "        return \n",
    "    \n",
    "    # Считаем что список площадей children_areas отсортирован по убыванию\n",
    "    c = children_areas[0]\n",
    "    \n",
    "    if worst(current_row, smallest_side) > worst(current_row + [c], smallest_side):\n",
    "        squarify(children_areas[1:], current_row + [c], smallest_side, big_rectangle_coords)\n",
    "    else:\n",
    "        # меняются координаты прямоугольника\n",
    "        big_rectangle_coords = layout_row(current_row, *big_rectangle_coords)\n",
    "        \n",
    "        squarify(children_areas, [], shortest_side(*big_rectangle_coords), big_rectangle_coords)\n",
    "        \n",
    "    return"
   ]
  },
  {
   "cell_type": "code",
   "execution_count": null,
   "metadata": {},
   "outputs": [],
   "source": []
  },
  {
   "cell_type": "code",
   "execution_count": 20,
   "metadata": {},
   "outputs": [],
   "source": [
    "def plot_rectangles(rectangles, filename_save=\"result.png\"):\n",
    "    plt.figure(figsize=(20, 20))\n",
    "\n",
    "    for rec in rectangles:\n",
    "        \n",
    "        plt.plot([rec[0][0], rec[0][2]], [rec[0][1], rec[0][1]], color='blue')  # горизонтальная линия внизу\n",
    "        plt.plot([rec[0][0], rec[0][2]], [rec[0][3], rec[0][3]], color='blue')  # горизонтальная линия сверху\n",
    "        plt.plot([rec[0][0], rec[0][0]], [rec[0][1], rec[0][3]], color='blue')  # вертикальная линия слева\n",
    "        plt.plot([rec[0][2], rec[0][2]], [rec[0][1], rec[0][3]], color='blue')  # вертикальная линия справа\n",
    "\n",
    "        # TODO: нужно лучше центрировать\n",
    "        if rec[0][2] - rec[0][0] > 1000: \n",
    "            plt.text(rec[0][0], (rec[0][3] - rec[0][1]) / 2 + rec[0][1],\n",
    "                     rec[1], color='black')\n",
    "        elif rec[0][2] - rec[0][0] > 600: \n",
    "            plt.text(rec[0][0], (rec[0][3] - rec[0][1]) / 2 + rec[0][1],\n",
    "                     rec[1][:100] + '...', color='black')\n",
    "        elif rec[0][2] - rec[0][0] > 300:\n",
    "            plt.text(rec[0][0], (rec[0][3] - rec[0][1]) / 2 + rec[0][1],\n",
    "                     rec[1][:18] + '...', color='black')\n",
    "        else:\n",
    "            plt.text(rec[0][0], (rec[0][3] - rec[0][1]) / 2 + rec[0][1],\n",
    "                     '...', color='black')\n",
    "            \n",
    "    plt.axis('off')\n",
    "    plt.savefig(filename_save, bbox_inches = 'tight')\n",
    "    plt.show()"
   ]
  },
  {
   "cell_type": "code",
   "execution_count": null,
   "metadata": {},
   "outputs": [],
   "source": []
  },
  {
   "cell_type": "code",
   "execution_count": null,
   "metadata": {},
   "outputs": [],
   "source": []
  },
  {
   "cell_type": "code",
   "execution_count": 21,
   "metadata": {
    "scrolled": false
   },
   "outputs": [
    {
     "name": "stdout",
     "output_type": "stream",
     "text": [
      "[[(47005, 'times_testing-checkpoint.ipynb')], (2487, 'design.py'), (1387, 'design.ui'), [(41235, '00a6892e5c7f92c1f465e213fd904582.jpg'), (55590, '00b43aa6064fa6733a391d41fe4c6803.jpg'), (73047, '00c6e480ca61e3d2da272d7b6bee0a9e.jpg'), (38731, '00e3fd599b69899cba0a4939f66a1745.jpg'), (13264, '00e71e327e114433191f34054c6bf6f5.jpg'), (37585, '0a3900f02e38cd042f23a6be538b95d6.jpg'), (80254, '0a5f4f224f4660a3453a7fa327bec893.jpg'), (513320, '1479a2aec3daedc2269992b0ffbe36ec.jpg'), (28254, '1_7_1.jpeg'), (118621, 'CBSE-12th-Biology-paper-analysis-2019-2.jpeg'), (367096, 'drag-drop-file-0.jpg'), (135392, 'file5-1.jpeg'), (371693, 'gs-mains-2018-paper-2-1.png'), (5117, 'images_1.jpg'), (2992066, 'img_8598.jpg')], (1800, 'images_shower.py'), (1276, 'images_shower.ui'), (10134, 'main.py'), [(69035, '00a6892e5c7f92c1f465e213fd904582.jpg'), (86523, '00b43aa6064fa6733a391d41fe4c6803.jpg'), (181203, '00c6e480ca61e3d2da272d7b6bee0a9e.jpg'), (80697, '00e3fd599b69899cba0a4939f66a1745.jpg'), (45567, '00e71e327e114433191f34054c6bf6f5.jpg'), (103546, '0a3900f02e38cd042f23a6be538b95d6.jpg'), (193461, '0a5f4f224f4660a3453a7fa327bec893.jpg'), (759696, '1479a2aec3daedc2269992b0ffbe36ec.jpg'), (343265, 'drag-drop-file-0.jpg'), (35604, 'gs-mains-2018-paper-2-1.png'), (20270, 'images_1.jpg'), (1675820, 'img_8598.jpg')], (14, 'run.sh'), [(31931, '1.png'), (471118, '2.png')], (383, 'times.csv'), (47005, 'times_testing.ipynb'), [(1671, 'design.cpython-36.pyc'), (1406, 'images_shower.cpython-36.pyc'), (978, 'tasks_queue.cpython-36.pyc')]]\n"
     ]
    },
    {
     "data": {
      "image/png": "[encoded data removed]",
      "text/plain": [
       "<Figure size 1440x1440 with 1 Axes>"
      ]
     },
     "metadata": {
      "needs_background": "light"
     },
     "output_type": "display_data"
    }
   ],
   "source": [
    "path = \"<path>\"\n",
    "dataset, sum_size = recursively_walk(path, [], 0)\n",
    "\n",
    "print(dataset)\n",
    "\n",
    "side = math.sqrt(sum_size)\n",
    "\n",
    "rectangles = []\n",
    "squarify(dataset, [], side, (0, 0, side, side))\n",
    "\n",
    "plot_rectangles(rectangles)"
   ]
  },
  {
   "cell_type": "markdown",
   "metadata": {},
   "source": []
  }
 ],
 "metadata": {
  "kernelspec": {
   "display_name": "Python 3",
   "language": "python",
   "name": "python3"
  },
  "language_info": {
   "codemirror_mode": {
    "name": "ipython",
    "version": 3
   },
   "file_extension": ".py",
   "mimetype": "text/x-python",
   "name": "python",
   "nbconvert_exporter": "python",
   "pygments_lexer": "ipython3",
   "version": "3.6.8"
  }
 },
 "nbformat": 4,
 "nbformat_minor": 2
}
